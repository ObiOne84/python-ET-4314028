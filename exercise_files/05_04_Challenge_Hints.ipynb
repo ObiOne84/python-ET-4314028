{
 "cells": [
  {
   "cell_type": "markdown",
   "id": "3d331168",
   "metadata": {},
   "source": [
    "## Faster Prime Finding\n",
    "\n",
    "Write a function that returns a list of all primes up to a given number.\n",
    "\n",
    "For each number, in order to determine if it is prime, take the following steps:\n",
    "1. Find the square root of the number\n",
    "2. Find all the primes up to that square root\n",
    "3. Test to see if any of those primes are divisors \n",
    "\n",
    "If a number has no prime divisors, it is prime!\n"
   ]
  },
  {
   "cell_type": "markdown",
   "id": "c722d7d2",
   "metadata": {},
   "source": [
    "### Challenge Hints!"
   ]
  },
  {
   "cell_type": "markdown",
   "id": "447e6304",
   "metadata": {},
   "source": [
    "**Hint 1:** The function should collect a list of prime numbers as goes. This is the list that it adds \"new primes\" to as well as the list it uses to check for factors.\n"
   ]
  },
  {
   "cell_type": "markdown",
   "id": "60c7327b",
   "metadata": {},
   "source": [
    "**Hint 2:** Don't try to test whether or not 2 is prime. You can assume it's prime and just add it to your list to start"
   ]
  },
  {
   "cell_type": "markdown",
   "id": "45c5dc7b",
   "metadata": {},
   "source": [
    "**Hint 3:** Try modifying the previously-written code:"
   ]
  },
  {
   "cell_type": "code",
   "execution_count": 1,
   "id": "747a1ebf",
   "metadata": {},
   "outputs": [
    {
     "name": "stdout",
     "output_type": "stream",
     "text": [
      "[2, 3, 5, 7, 11, 13, 17, 19, 23, 29, 31, 37, 41, 43, 47, 53, 59, 61, 67, 71, 73, 79, 83, 89, 97]\n"
     ]
    }
   ],
   "source": [
    "def allPrimesUpTo(num): \n",
    "    primes = [2]\n",
    "    for number in range(3, num):\n",
    "        sqrtNum = number ** 0.5\n",
    "        for factor in primes:\n",
    "            if number % factor == 0:\n",
    "                # not primes\n",
    "                break\n",
    "            if factor > sqrtNum:\n",
    "                # It's prime\n",
    "                primes.append(number)\n",
    "                break\n",
    "    return primes\n",
    "\n",
    "print(allPrimesUpTo(100))"
   ]
  },
  {
   "cell_type": "code",
   "execution_count": null,
   "id": "b27bfac4",
   "metadata": {},
   "outputs": [],
   "source": []
  },
  {
   "cell_type": "code",
   "execution_count": null,
   "id": "9c863053",
   "metadata": {},
   "outputs": [],
   "source": []
  }
 ],
 "metadata": {
  "kernelspec": {
   "display_name": "Python 3 (ipykernel)",
   "language": "python",
   "name": "python3"
  },
  "language_info": {
   "codemirror_mode": {
    "name": "ipython",
    "version": 3
   },
   "file_extension": ".py",
   "mimetype": "text/x-python",
   "name": "python",
   "nbconvert_exporter": "python",
   "pygments_lexer": "ipython3",
   "version": "3.12.4"
  },
  "vscode": {
   "interpreter": {
    "hash": "949777d72b0d2535278d3dc13498b2535136f6dfe0678499012e853ee9abcab1"
   }
  }
 },
 "nbformat": 4,
 "nbformat_minor": 5
}
